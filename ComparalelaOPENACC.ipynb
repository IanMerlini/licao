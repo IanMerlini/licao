{
  "nbformat": 4,
  "nbformat_minor": 0,
  "metadata": {
    "colab": {
      "provenance": [],
      "gpuType": "T4",
      "authorship_tag": "ABX9TyMybccqh+de6FBAB/o5kn+/",
      "include_colab_link": true
    },
    "kernelspec": {
      "name": "python3",
      "display_name": "Python 3"
    },
    "language_info": {
      "name": "python"
    },
    "accelerator": "GPU"
  },
  "cells": [
    {
      "cell_type": "markdown",
      "metadata": {
        "id": "view-in-github",
        "colab_type": "text"
      },
      "source": [
        "<a href=\"https://colab.research.google.com/github/IanMerlini/licao/blob/main/ComparalelaOPENACC.ipynb\" target=\"_parent\"><img src=\"https://colab.research.google.com/assets/colab-badge.svg\" alt=\"Open In Colab\"/></a>"
      ]
    },
    {
      "cell_type": "code",
      "execution_count": 2,
      "metadata": {
        "colab": {
          "base_uri": "https://localhost:8080/"
        },
        "id": "4jQXEzI_7dfW",
        "outputId": "65000b9e-0d6e-4e8d-f29b-e4f1da61fa26"
      },
      "outputs": [
        {
          "output_type": "stream",
          "name": "stdout",
          "text": [
            "Writing timer.h\n"
          ]
        }
      ],
      "source": [
        "%%writefile timer.h\n",
        "\n",
        "#include <stdio.h>\n",
        "#include <math.h>\n",
        "#include <sys/time.h>\n",
        "\n",
        "// Funções para medição de tempo\n",
        "struct timeval timerStart;\n",
        "\n",
        "void StartTimer() {\n",
        "    gettimeofday(&timerStart, NULL);\n",
        "}\n",
        "\n",
        "double GetTimer() {\n",
        "    struct timeval timerStop, timerElapsed;\n",
        "    gettimeofday(&timerStop, NULL);\n",
        "    timersub(&timerStop, &timerStart, &timerElapsed);\n",
        "    return timerElapsed.tv_sec * 1000.0 + timerElapsed.tv_usec / 1000.0;\n",
        "}\n",
        "\n",
        "// Função que será integrada\n",
        "double f(double x) {\n",
        "    return 4.0 / (1.0 + x * x);\n",
        "}\n",
        "\n",
        "int main() {\n",
        "    const int n = 100000000; // Número de trapézios\n",
        "    const double a = 0.0, b = 1.0; // Limites de integração\n",
        "    double h = (b - a) / n; // Altura de cada trapézio\n",
        "    double integral = 0.0;\n",
        "\n",
        "    printf(\"Calculando a integral usando OpenACC...\\n\");\n",
        "\n",
        "    StartTimer();\n",
        "\n",
        "    #pragma acc parallel loop reduction(+:integral)\n",
        "    for (int i = 0; i < n; i++) {\n",
        "        double x_i = a + i * h;\n",
        "        double x_next = a + (i + 1) * h;\n",
        "        integral += (f(x_i) + f(x_next)) * h / 2.0;\n",
        "    }\n",
        "\n",
        "    double runtime = GetTimer();\n",
        "\n",
        "    printf(\"Resultado da integral: %.12f\\n\", integral);\n",
        "    printf(\"Tempo de execução: %.3f ms\\n\", runtime);\n",
        "\n",
        "    return 0;\n",
        "}"
      ]
    },
    {
      "cell_type": "code",
      "source": [
        "%%writefile task2_solution.c\n",
        "\n",
        "#include <stdio.h>\n",
        "#include <stdlib.h>\n",
        "#include <sys/time.h>\n",
        "\n",
        "// Funções para medição de tempo\n",
        "struct timeval timerStart;\n",
        "\n",
        "void StartTimer() {\n",
        "    gettimeofday(&timerStart, NULL);\n",
        "}\n",
        "\n",
        "double GetTimer() {\n",
        "    struct timeval timerStop, timerElapsed;\n",
        "    gettimeofday(&timerStop, NULL);\n",
        "    timersub(&timerStop, &timerStart, &timerElapsed);\n",
        "    return timerElapsed.tv_sec * 1000.0 + timerElapsed.tv_usec / 1000.0;\n",
        "}\n",
        "\n",
        "#define N 1024 // Tamanho da matriz\n",
        "\n",
        "void matrix_multiplication(float A[N][N], float B[N][N], float C[N][N]) {\n",
        "    #pragma acc parallel loop collapse(2)\n",
        "    for (int i = 0; i < N; i++) {\n",
        "        for (int j = 0; j < N; j++) {\n",
        "            float sum = 0.0;\n",
        "            for (int k = 0; k < N; k++) {\n",
        "                sum += A[i][k] * B[k][j];\n",
        "            }\n",
        "            C[i][j] = sum;\n",
        "        }\n",
        "    }\n",
        "}\n",
        "\n",
        "int main() {\n",
        "    float (*A)[N] = malloc(sizeof(float[N][N]));\n",
        "    float (*B)[N] = malloc(sizeof(float[N][N]));\n",
        "    float (*C)[N] = malloc(sizeof(float[N][N]));\n",
        "\n",
        "    // Inicializando as matrizes\n",
        "    for (int i = 0; i < N; i++) {\n",
        "        for (int j = 0; j < N; j++) {\n",
        "            A[i][j] = rand() % 100;\n",
        "            B[i][j] = rand() % 100;\n",
        "            C[i][j] = 0.0;\n",
        "        }\n",
        "    }\n",
        "\n",
        "    printf(\"Calculando a multiplicação de matrizes usando OpenACC...\\n\");\n",
        "\n",
        "    StartTimer();\n",
        "\n",
        "    matrix_multiplication(A, B, C);\n",
        "\n",
        "    double runtime = GetTimer();\n",
        "\n",
        "    printf(\"Multiplicação de matrizes concluída!\\n\");\n",
        "    printf(\"Tempo de execução: %.3f ms\\n\", runtime);\n",
        "\n",
        "    free(A);\n",
        "    free(B);\n",
        "    free(C);\n",
        "\n",
        "    return 0;\n",
        "}\n"
      ],
      "metadata": {
        "colab": {
          "base_uri": "https://localhost:8080/"
        },
        "id": "Rq82h8qX7onf",
        "outputId": "2aa85043-14b2-4034-b795-0393c914a3b2"
      },
      "execution_count": 3,
      "outputs": [
        {
          "output_type": "stream",
          "name": "stdout",
          "text": [
            "Writing task2_solution.c\n"
          ]
        }
      ]
    },
    {
      "cell_type": "code",
      "source": [
        "!ls -l"
      ],
      "metadata": {
        "colab": {
          "base_uri": "https://localhost:8080/"
        },
        "id": "VKF2VSgp7srj",
        "outputId": "38f22d74-bef3-472f-dffb-1f747bf4b276"
      },
      "execution_count": null,
      "outputs": [
        {
          "output_type": "stream",
          "name": "stdout",
          "text": [
            "total 12\n",
            "drwxr-xr-x 1 root root 4096 Nov 19 14:23 sample_data\n",
            "-rw-r--r-- 1 root root 1450 Nov 20 23:51 task2_solution.c\n",
            "-rw-r--r-- 1 root root 1573 Nov 20 23:51 timer.h\n"
          ]
        }
      ]
    },
    {
      "cell_type": "code",
      "source": [
        "!wget https://developer.download.nvidia.com/hpc-sdk/20.9/nvhpc-20-9_20.9_amd64.deb"
      ],
      "metadata": {
        "colab": {
          "base_uri": "https://localhost:8080/"
        },
        "id": "hHtygEK77vpZ",
        "outputId": "a9189ace-3f1a-4403-94ec-ed4aef7c4fd8"
      },
      "execution_count": null,
      "outputs": [
        {
          "output_type": "stream",
          "name": "stdout",
          "text": [
            "--2024-11-20 23:51:08--  https://developer.download.nvidia.com/hpc-sdk/20.9/nvhpc-20-9_20.9_amd64.deb\n",
            "Resolving developer.download.nvidia.com (developer.download.nvidia.com)... 152.195.19.142\n",
            "Connecting to developer.download.nvidia.com (developer.download.nvidia.com)|152.195.19.142|:443... connected.\n",
            "HTTP request sent, awaiting response... 200 OK\n",
            "Length: 2117119120 (2.0G) [application/x-deb]\n",
            "Saving to: ‘nvhpc-20-9_20.9_amd64.deb’\n",
            "\n",
            "nvhpc-20-9_20.9_amd 100%[===================>]   1.97G   138MB/s    in 11s     \n",
            "\n",
            "2024-11-20 23:51:19 (191 MB/s) - ‘nvhpc-20-9_20.9_amd64.deb’ saved [2117119120/2117119120]\n",
            "\n"
          ]
        }
      ]
    },
    {
      "cell_type": "code",
      "source": [
        "!wget https://developer.download.nvidia.com/hpc-sdk/20.9/nvhpc-2020_20.9_amd64.deb"
      ],
      "metadata": {
        "colab": {
          "base_uri": "https://localhost:8080/"
        },
        "id": "ME76-SN_715I",
        "outputId": "b05bf41b-f0e5-468b-9336-045bbdde6cea"
      },
      "execution_count": null,
      "outputs": [
        {
          "output_type": "stream",
          "name": "stdout",
          "text": [
            "--2024-11-20 23:51:27--  https://developer.download.nvidia.com/hpc-sdk/20.9/nvhpc-2020_20.9_amd64.deb\n",
            "Resolving developer.download.nvidia.com (developer.download.nvidia.com)... 152.195.19.142\n",
            "Connecting to developer.download.nvidia.com (developer.download.nvidia.com)|152.195.19.142|:443... connected.\n",
            "HTTP request sent, awaiting response... 200 OK\n",
            "Length: 1272 (1.2K) [application/x-deb]\n",
            "Saving to: ‘nvhpc-2020_20.9_amd64.deb’\n",
            "\n",
            "\r          nvhpc-202   0%[                    ]       0  --.-KB/s               \rnvhpc-2020_20.9_amd 100%[===================>]   1.24K  --.-KB/s    in 0s      \n",
            "\n",
            "2024-11-20 23:51:27 (118 MB/s) - ‘nvhpc-2020_20.9_amd64.deb’ saved [1272/1272]\n",
            "\n"
          ]
        }
      ]
    },
    {
      "cell_type": "code",
      "source": [
        "!wget https://developer.download.nvidia.com/hpc-sdk/20.9/nvhpc-20-9-cuda-multi_20.9_amd64.deb"
      ],
      "metadata": {
        "colab": {
          "base_uri": "https://localhost:8080/"
        },
        "id": "1TBRyPOC75Hy",
        "outputId": "0683c31a-2c11-45cf-8c3b-76141dab4111"
      },
      "execution_count": null,
      "outputs": [
        {
          "output_type": "stream",
          "name": "stdout",
          "text": [
            "--2024-11-20 23:51:29--  https://developer.download.nvidia.com/hpc-sdk/20.9/nvhpc-20-9-cuda-multi_20.9_amd64.deb\n",
            "Resolving developer.download.nvidia.com (developer.download.nvidia.com)... 152.195.19.142\n",
            "Connecting to developer.download.nvidia.com (developer.download.nvidia.com)|152.195.19.142|:443... connected.\n",
            "HTTP request sent, awaiting response... 200 OK\n",
            "Length: 1558347920 (1.5G) [application/x-deb]\n",
            "Saving to: ‘nvhpc-20-9-cuda-multi_20.9_amd64.deb’\n",
            "\n",
            "nvhpc-20-9-cuda-mul 100%[===================>]   1.45G   263MB/s    in 5.8s    \n",
            "\n",
            "2024-11-20 23:51:35 (254 MB/s) - ‘nvhpc-20-9-cuda-multi_20.9_amd64.deb’ saved [1558347920/1558347920]\n",
            "\n"
          ]
        }
      ]
    },
    {
      "cell_type": "code",
      "source": [
        "!sudo apt-get install ./nvhpc-20-9_20.9_amd64.deb ./nvhpc-2020_20.9_amd64.deb ./nvhpc-20-9-cuda-multi_20.9_amd64.deb"
      ],
      "metadata": {
        "colab": {
          "base_uri": "https://localhost:8080/"
        },
        "id": "gG5D-0b07-m2",
        "outputId": "1a2898c4-1aaf-44c1-ec3b-4a9931930f92"
      },
      "execution_count": null,
      "outputs": [
        {
          "output_type": "stream",
          "name": "stdout",
          "text": [
            "Reading package lists... Done\n",
            "Building dependency tree... Done\n",
            "Reading state information... Done\n",
            "Note, selecting 'nvhpc-20-9' instead of './nvhpc-20-9_20.9_amd64.deb'\n",
            "Note, selecting 'nvhpc-2020' instead of './nvhpc-2020_20.9_amd64.deb'\n",
            "Note, selecting 'nvhpc-20-9-cuda-multi' instead of './nvhpc-20-9-cuda-multi_20.9_amd64.deb'\n",
            "The following NEW packages will be installed:\n",
            "  nvhpc-20-9 nvhpc-20-9-cuda-multi nvhpc-2020\n",
            "0 upgraded, 3 newly installed, 0 to remove and 49 not upgraded.\n",
            "Need to get 0 B/3,675 MB of archives.\n",
            "After this operation, 10.1 GB of additional disk space will be used.\n",
            "Get:1 /content/nvhpc-2020_20.9_amd64.deb nvhpc-2020 amd64 20.9 [1,272 B]\n",
            "Get:2 /content/nvhpc-20-9_20.9_amd64.deb nvhpc-20-9 amd64 20.9 [2,117 MB]\n",
            "Get:3 /content/nvhpc-20-9-cuda-multi_20.9_amd64.deb nvhpc-20-9-cuda-multi amd64 20.9 [1,558 MB]\n",
            "debconf: unable to initialize frontend: Dialog\n",
            "debconf: (No usable dialog-like program is installed, so the dialog based frontend cannot be used. at /usr/share/perl5/Debconf/FrontEnd/Dialog.pm line 78, <> line 3.)\n",
            "debconf: falling back to frontend: Readline\n",
            "debconf: unable to initialize frontend: Readline\n",
            "debconf: (This frontend requires a controlling tty.)\n",
            "debconf: falling back to frontend: Teletype\n",
            "dpkg-preconfigure: unable to re-open stdin: \n",
            "Selecting previously unselected package nvhpc-2020.\n",
            "(Reading database ... 123629 files and directories currently installed.)\n",
            "Preparing to unpack .../nvhpc-2020_20.9_amd64.deb ...\n",
            "Unpacking nvhpc-2020 (20.9) ...\n",
            "Selecting previously unselected package nvhpc-20-9.\n",
            "Preparing to unpack .../nvhpc-20-9_20.9_amd64.deb ...\n",
            "Unpacking nvhpc-20-9 (20.9) ...\n",
            "Selecting previously unselected package nvhpc-20-9-cuda-multi.\n",
            "Preparing to unpack .../nvhpc-20-9-cuda-multi_20.9_amd64.deb ...\n",
            "Unpacking nvhpc-20-9-cuda-multi (20.9) ...\n",
            "Setting up nvhpc-2020 (20.9) ...\n",
            "Setting up nvhpc-20-9 (20.9) ...\n",
            "Setting up nvhpc-20-9-cuda-multi (20.9) ...\n",
            "Processing triggers for libc-bin (2.35-0ubuntu3.4) ...\n",
            "/sbin/ldconfig.real: /usr/local/lib/libtcm_debug.so.1 is not a symbolic link\n",
            "\n",
            "/sbin/ldconfig.real: /usr/local/lib/libtbbmalloc_proxy.so.2 is not a symbolic link\n",
            "\n",
            "/sbin/ldconfig.real: /usr/local/lib/libumf.so.0 is not a symbolic link\n",
            "\n",
            "/sbin/ldconfig.real: /usr/local/lib/libtcm.so.1 is not a symbolic link\n",
            "\n",
            "/sbin/ldconfig.real: /usr/local/lib/libur_loader.so.0 is not a symbolic link\n",
            "\n",
            "/sbin/ldconfig.real: /usr/local/lib/libhwloc.so.15 is not a symbolic link\n",
            "\n",
            "/sbin/ldconfig.real: /usr/local/lib/libur_adapter_level_zero.so.0 is not a symbolic link\n",
            "\n",
            "/sbin/ldconfig.real: /usr/local/lib/libtbbbind_2_5.so.3 is not a symbolic link\n",
            "\n",
            "/sbin/ldconfig.real: /usr/local/lib/libtbb.so.12 is not a symbolic link\n",
            "\n",
            "/sbin/ldconfig.real: /usr/local/lib/libur_adapter_opencl.so.0 is not a symbolic link\n",
            "\n",
            "/sbin/ldconfig.real: /usr/local/lib/libtbbbind.so.3 is not a symbolic link\n",
            "\n",
            "/sbin/ldconfig.real: /usr/local/lib/libtbbbind_2_0.so.3 is not a symbolic link\n",
            "\n",
            "/sbin/ldconfig.real: /usr/local/lib/libtbbmalloc.so.2 is not a symbolic link\n",
            "\n"
          ]
        }
      ]
    },
    {
      "cell_type": "code",
      "source": [
        "!/opt/nvidia/hpc_sdk/Linux_x86_64/20.9/compilers/bin/nvc --version"
      ],
      "metadata": {
        "colab": {
          "base_uri": "https://localhost:8080/"
        },
        "id": "ZgeWHlVf9uuv",
        "outputId": "87abecb2-89e6-48cb-9408-9b2b0a52c70a"
      },
      "execution_count": null,
      "outputs": [
        {
          "output_type": "stream",
          "name": "stdout",
          "text": [
            "\n",
            "nvc 20.9-0 LLVM 64-bit target on x86-64 Linux -tp haswell \n",
            "NVIDIA Compilers and Tools\n",
            "Copyright (c) 2020, NVIDIA CORPORATION.  All rights reserved.\n"
          ]
        }
      ]
    },
    {
      "cell_type": "code",
      "source": [
        "!nvidia-smi"
      ],
      "metadata": {
        "colab": {
          "base_uri": "https://localhost:8080/"
        },
        "id": "eaLN2XB7BFXC",
        "outputId": "ceaec810-ea27-49c5-b7fe-52c9eba64fcf"
      },
      "execution_count": 4,
      "outputs": [
        {
          "output_type": "stream",
          "name": "stdout",
          "text": [
            "Thu Nov 21 02:12:21 2024       \n",
            "+---------------------------------------------------------------------------------------+\n",
            "| NVIDIA-SMI 535.104.05             Driver Version: 535.104.05   CUDA Version: 12.2     |\n",
            "|-----------------------------------------+----------------------+----------------------+\n",
            "| GPU  Name                 Persistence-M | Bus-Id        Disp.A | Volatile Uncorr. ECC |\n",
            "| Fan  Temp   Perf          Pwr:Usage/Cap |         Memory-Usage | GPU-Util  Compute M. |\n",
            "|                                         |                      |               MIG M. |\n",
            "|=========================================+======================+======================|\n",
            "|   0  Tesla T4                       Off | 00000000:00:04.0 Off |                    0 |\n",
            "| N/A   54C    P8              12W /  70W |      0MiB / 15360MiB |      0%      Default |\n",
            "|                                         |                      |                  N/A |\n",
            "+-----------------------------------------+----------------------+----------------------+\n",
            "                                                                                         \n",
            "+---------------------------------------------------------------------------------------+\n",
            "| Processes:                                                                            |\n",
            "|  GPU   GI   CI        PID   Type   Process name                            GPU Memory |\n",
            "|        ID   ID                                                             Usage      |\n",
            "|=======================================================================================|\n",
            "|  No running processes found                                                           |\n",
            "+---------------------------------------------------------------------------------------+\n"
          ]
        }
      ]
    },
    {
      "cell_type": "code",
      "source": [
        "!/opt/nvidia/hpc_sdk/Linux_x86_64/20.9/compilers/bin/nvc -acc -Minfo -gpu=cuda10.1 -fast -D__STRICT_ANSI__ -o task2_out task2_solution.c"
      ],
      "metadata": {
        "colab": {
          "base_uri": "https://localhost:8080/"
        },
        "id": "PZrUhOlCU6J9",
        "outputId": "1f80a4ea-fe18-49f5-ddef-314f8fb49b88"
      },
      "execution_count": 5,
      "outputs": [
        {
          "output_type": "stream",
          "name": "stdout",
          "text": [
            "/bin/bash: line 1: /opt/nvidia/hpc_sdk/Linux_x86_64/20.9/compilers/bin/nvc: No such file or directory\n"
          ]
        }
      ]
    },
    {
      "cell_type": "code",
      "source": [
        "!gcc -o task2_out task2_solution.c -lm\n"
      ],
      "metadata": {
        "id": "i6p0hFopgOvU"
      },
      "execution_count": 9,
      "outputs": []
    },
    {
      "cell_type": "code",
      "source": [
        "!/opt/nvidia/hpc_sdk/Linux_x86_64/22.11/compilers/bin/nvc -acc -Minfo -gpu=cuda -fast -o task2_out task2_solution.c\n"
      ],
      "metadata": {
        "colab": {
          "base_uri": "https://localhost:8080/"
        },
        "id": "ZEZs71wFgbPI",
        "outputId": "f4024566-afb7-486c-c04e-f2eaf29c0205"
      },
      "execution_count": 10,
      "outputs": [
        {
          "output_type": "stream",
          "name": "stdout",
          "text": [
            "/bin/bash: line 1: /opt/nvidia/hpc_sdk/Linux_x86_64/22.11/compilers/bin/nvc: No such file or directory\n"
          ]
        }
      ]
    },
    {
      "cell_type": "code",
      "source": [
        "!./task2_out"
      ],
      "metadata": {
        "colab": {
          "base_uri": "https://localhost:8080/"
        },
        "id": "030kfItigfyz",
        "outputId": "899c01e4-71fc-49d4-999d-ef21efce5ec6"
      },
      "execution_count": 11,
      "outputs": [
        {
          "output_type": "stream",
          "name": "stdout",
          "text": [
            "Calculando a multiplicação de matrizes usando OpenACC...\n",
            "Multiplicação de matrizes concluída!\n",
            "Tempo de execução: 6629.222 ms\n"
          ]
        }
      ]
    }
  ]
}